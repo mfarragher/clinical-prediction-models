{
 "cells": [
  {
   "cell_type": "markdown",
   "metadata": {},
   "source": [
    "_**Power for statistical interaction testing in RCTs**_\n",
    "\n",
    "Adapted from this R script: http://www.clinicalpredictionmodels.org/doku.php?id=additional:chapter02"
   ]
  },
  {
   "cell_type": "code",
   "execution_count": 1,
   "metadata": {},
   "outputs": [
    {
     "name": "stderr",
     "output_type": "stream",
     "text": [
      "Loading required package: Matrix\n",
      "Loading required package: lme4\n",
      "\n",
      "arm (Version 1.10-1, built: 2018-4-12)\n",
      "\n",
      "Working directory is /home/mark/Github/clinical-prediction-models/notebooks/chapters/ch02\n",
      "\n"
     ]
    }
   ],
   "source": [
    "library('arm')"
   ]
  },
  {
   "cell_type": "code",
   "execution_count": 2,
   "metadata": {},
   "outputs": [],
   "source": [
    "set.seed(42)"
   ]
  },
  {
   "cell_type": "markdown",
   "metadata": {},
   "source": [
    "# Set up distributions"
   ]
  },
  {
   "cell_type": "code",
   "execution_count": 3,
   "metadata": {},
   "outputs": [],
   "source": [
    "N <- 1000\n",
    "sigma <- 10\n",
    "y <- rnorm(N, 0, sigma)\n",
    "x1 <- sample(c(-0.5,0.5), N, replace=TRUE)\n",
    "x2 <- sample(c(-0.5,0.5), N, replace=TRUE)"
   ]
  },
  {
   "cell_type": "markdown",
   "metadata": {},
   "source": [
    "# `y` under the Null"
   ]
  },
  {
   "cell_type": "code",
   "execution_count": 4,
   "metadata": {},
   "outputs": [
    {
     "name": "stdout",
     "output_type": "stream",
     "text": [
      "lm(formula = y ~ x1)\n",
      "            coef.est coef.se\n",
      "(Intercept) -0.23     0.32  \n",
      "x1           1.59     0.63  \n",
      "---\n",
      "n = 1000, k = 2\n",
      "residual sd = 10.00, R-Squared = 0.01\n"
     ]
    }
   ],
   "source": [
    "display(lm(y ~ x1))"
   ]
  },
  {
   "cell_type": "code",
   "execution_count": 5,
   "metadata": {},
   "outputs": [
    {
     "name": "stdout",
     "output_type": "stream",
     "text": [
      "lm(formula = y ~ x1 + x2 + x1:x2)\n",
      "            coef.est coef.se\n",
      "(Intercept) -0.24     0.32  \n",
      "x1           1.59     0.63  \n",
      "x2          -0.29     0.63  \n",
      "x1:x2        0.38     1.27  \n",
      "---\n",
      "n = 1000, k = 4\n",
      "residual sd = 10.01, R-Squared = 0.01\n"
     ]
    }
   ],
   "source": [
    "display(lm(y ~ x1 + x2 + x1:x2))"
   ]
  },
  {
   "cell_type": "markdown",
   "metadata": {},
   "source": [
    "coef.se(x1)"
   ]
  },
  {
   "cell_type": "markdown",
   "metadata": {},
   "source": [
    "\\begin{equation}\n",
    "\\frac{2\\sigma}{\\sqrt(N)} = \\frac{2 * 10}{\\sqrt(1000)} = 0.63\n",
    "\\end{equation}"
   ]
  },
  {
   "cell_type": "markdown",
   "metadata": {},
   "source": [
    "coef.se(x1:x2)"
   ]
  },
  {
   "cell_type": "markdown",
   "metadata": {},
   "source": [
    "\\begin{equation}\n",
    "\\frac{4\\sigma}{\\sqrt(N)} = \\frac{4 * 10}{\\sqrt(1000)} = 1.26\n",
    "\\end{equation}"
   ]
  },
  {
   "cell_type": "markdown",
   "metadata": {},
   "source": [
    "# `y` under the alternative of separate `x1` effects for `x2` values"
   ]
  },
  {
   "cell_type": "markdown",
   "metadata": {},
   "source": [
    "overall effects:\n",
    "- `x1`: 2.8 * sigma\n",
    "- `x2==-.5`: 2.1 * sigma\n",
    "- `x2==0.5`: 3.5 * sigma"
   ]
  },
  {
   "cell_type": "code",
   "execution_count": 6,
   "metadata": {},
   "outputs": [],
   "source": [
    "y[x1 == .5 & x2 == -.5] <- rnorm(length(y[x1 == .5 & x2 == -.5]), 2.1 * sigma, sigma)\n",
    "y[x1 == .5 & x2 == .5] <- rnorm(length(y[x1 == .5 & x2 == .5]), 3.5 * sigma, sigma)"
   ]
  },
  {
   "cell_type": "code",
   "execution_count": 7,
   "metadata": {},
   "outputs": [
    {
     "name": "stdout",
     "output_type": "stream",
     "text": [
      "lm(formula = y ~ x1)\n",
      "            coef.est coef.se\n",
      "(Intercept) 13.45     0.36  \n",
      "x1          28.96     0.71  \n",
      "---\n",
      "n = 1000, k = 2\n",
      "residual sd = 11.28, R-Squared = 0.62\n"
     ]
    }
   ],
   "source": [
    "display(lm(y ~ x1))  # SE 0.71"
   ]
  },
  {
   "cell_type": "code",
   "execution_count": 8,
   "metadata": {},
   "outputs": [
    {
     "name": "stdout",
     "output_type": "stream",
     "text": [
      "lm(formula = y ~ x1 + x2)\n",
      "            coef.est coef.se\n",
      "(Intercept) 13.51     0.34  \n",
      "x1          29.09     0.68  \n",
      "x2           7.08     0.68  \n",
      "---\n",
      "n = 1000, k = 3\n",
      "residual sd = 10.71, R-Squared = 0.66\n"
     ]
    }
   ],
   "source": [
    "display(lm(y ~ x1 + x2))  # SE 0.68"
   ]
  },
  {
   "cell_type": "code",
   "execution_count": 9,
   "metadata": {},
   "outputs": [
    {
     "name": "stdout",
     "output_type": "stream",
     "text": [
      "lm(formula = y ~ x1 + x2 + x1:x2)\n",
      "            coef.est coef.se\n",
      "(Intercept) 13.58     0.32  \n",
      "x1          29.22     0.63  \n",
      "x2           7.31     0.63  \n",
      "x1:x2       15.59     1.26  \n",
      "---\n",
      "n = 1000, k = 4\n",
      "residual sd = 9.98, R-Squared = 0.70\n"
     ]
    }
   ],
   "source": [
    "display(lm(y ~ x1 + x2 + x1:x2))  # SE interaction 1.26; 1.26/0.72 equals 1.75 rather than a factor 2"
   ]
  }
 ],
 "metadata": {
  "kernelspec": {
   "display_name": "R",
   "language": "R",
   "name": "ir"
  },
  "language_info": {
   "codemirror_mode": "r",
   "file_extension": ".r",
   "mimetype": "text/x-r-source",
   "name": "R",
   "pygments_lexer": "r",
   "version": "3.6.1"
  }
 },
 "nbformat": 4,
 "nbformat_minor": 4
}
